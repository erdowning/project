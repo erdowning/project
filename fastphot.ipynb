{
 "cells": [
  {
   "cell_type": "code",
   "execution_count": 1,
   "id": "d66d97b2-ed5a-4eb7-ba5e-2ec861b39480",
   "metadata": {},
   "outputs": [],
   "source": [
    "import desitarget \n",
    "from astropy.table import Table\n",
    "from astropy.io import fits\n",
    "from astropy.cosmology import FlatLambdaCDM\n",
    "import astropy.units as U\n",
    "\n",
    "import numpy as np\n",
    "import pylab as pl #form of matplotlib\n",
    "import matplotlib.pyplot as plt\n",
    "from desitarget.targets import desi_mask, bgs_mask, mws_mask"
   ]
  },
  {
   "cell_type": "code",
   "execution_count": 2,
   "id": "3ee615aa-6a15-4759-8cdc-368b2d1092eb",
   "metadata": {},
   "outputs": [
    {
     "name": "stdout",
     "output_type": "stream",
     "text": [
      "fastphot-guadalupe.fits\n",
      "fastphot-guadalupe-main-bright.fits\n",
      "fastphot-guadalupe-main-dark.fits\n",
      "fastphot-guadalupe-special-bright.fits\n",
      "fastphot-guadalupe-special-dark.fits\n",
      "fastspecfit_guadalupe_v1.0_catalogs.sha256sum\n",
      "fastspec-guadalupe.fits\n",
      "fastspec-guadalupe-main-bright.fits\n",
      "fastspec-guadalupe-main-dark.fits\n",
      "fastspec-guadalupe-special-bright.fits\n",
      "fastspec-guadalupe-special-dark.fits\n"
     ]
    }
   ],
   "source": [
    "! ls /global/cfs/cdirs/desi/public/dr1/vac/fastspecfit/guadalupe/v1.0/catalogs"
   ]
  },
  {
   "cell_type": "code",
   "execution_count": 8,
   "id": "a9f1eb9e-5ed8-470d-ac2f-414825884a46",
   "metadata": {},
   "outputs": [],
   "source": [
    "with fits.open('/global/cfs/cdirs/desi/public/dr1/vac/fastspecfit/guadalupe/v1.0/catalogs/fastphot-guadalupe-main-bright.fits') as hdu:\n",
    "    data1 = Table(hdu[1].data)\n",
    "    data2 = Table(hdu[2].data)\n",
    "    hdr = hdu[0].header\n",
    "    \n",
    "data1['ABSMAG_SDSS_R'] = data1['ABSMAG_SDSS_R'] - 5*np.log10(0.77) #convert magnitudes"
   ]
  },
  {
   "cell_type": "code",
   "execution_count": 9,
   "id": "a97fe995-ea9b-4043-a37b-eaa8e327aec3",
   "metadata": {},
   "outputs": [
    {
     "data": {
      "text/plain": [
       "SIMPLE  =                    T / conforms to FITS standard                      \n",
       "BITPIX  =                    8 / array data type                                \n",
       "NAXIS   =                    0 / number of array dimensions                     \n",
       "EXTEND  =                    T                                                  \n",
       "EXTNAME = 'PRIMARY '                                                            \n",
       "SPECPROD= 'guadalupe'          / spectroscopic production name                  \n",
       "COADDTYP= 'healpix '           / spectral coadd fitted                          \n",
       "DEPNAM00= 'python  '                                                            \n",
       "DEPVER00= '3.10.4  '                                                            \n",
       "DEPNAM01= 'numpy   '                                                            \n",
       "DEPVER01= '1.22.4  '                                                            \n",
       "DEPNAM02= 'scipy   '                                                            \n",
       "DEPVER02= '1.8.1   '                                                            \n",
       "DEPNAM03= 'astropy '                                                            \n",
       "DEPVER03= '5.1     '                                                            \n",
       "DEPNAM04= 'yaml    '                                                            \n",
       "DEPVER04= '6.0     '                                                            \n",
       "DEPNAM05= 'matplotlib'                                                          \n",
       "DEPVER05= '3.5.2   '                                                            \n",
       "DEPNAM06= 'fitsio  '                                                            \n",
       "DEPVER06= '1.1.7   '                                                            \n",
       "DEPNAM07= 'desiutil'                                                            \n",
       "DEPVER07= '3.2.5   '                                                            \n",
       "DEPNAM08= 'desispec'                                                            \n",
       "DEPVER08= '0.53.2  '                                                            \n",
       "DEPNAM09= 'desitarget'                                                          \n",
       "DEPVER09= '2.5.0   '                                                            \n",
       "DEPNAM10= 'desimodel'                                                           \n",
       "DEPVER10= '0.17.0  '                                                            \n",
       "DEPNAM11= 'speclite'                                                            \n",
       "DEPVER11= '0.16    '                                                            \n",
       "DEPNAM12= 'DESI_ROOT'                                                           \n",
       "DEPVER12= '/global/cfs/cdirs/desi'                                              \n",
       "DEPNAM13= 'DESI_SPECTRO_DATA'                                                   \n",
       "DEPVER13= 'NOT_SET '                                                            \n",
       "DEPNAM14= 'DESI_SPECTRO_REDUX'                                                  \n",
       "DEPVER14= 'NOT_SET '                                                            \n",
       "DEPNAM15= 'SPECPROD'                                                            \n",
       "DEPVER15= 'NOT_SET '                                                            \n",
       "DEPNAM16= 'DESI_SPECTRO_CALIB'                                                  \n",
       "DEPVER16= 'NOT_SET '                                                            \n",
       "DEPNAM17= 'DESI_BASIS_TEMPLATES'                                                \n",
       "DEPVER17= 'NOT_SET '                                                            \n",
       "DEPNAM18= 'DESI_TARGET'                                                         \n",
       "DEPVER18= 'NOT_SET '                                                            \n",
       "DEPNAM19= 'DESIMODEL'                                                           \n",
       "DEPVER19= 'NOT_SET '                                                            \n",
       "DEPNAM20= 'fastspecfit'                                                         \n",
       "DEPVER20= '1.0.0.dev'                                                           \n",
       "CHECKSUM= '8Prc8MoZ8Mob8MoZ'   / HDU checksum updated 2022-08-05T17:26:48       \n",
       "DATASUM = '0       '           / data unit checksum updated 2022-08-05T17:26:48 "
      ]
     },
     "execution_count": 9,
     "metadata": {},
     "output_type": "execute_result"
    }
   ],
   "source": [
    "hdr"
   ]
  },
  {
   "cell_type": "code",
   "execution_count": 4,
   "id": "73f0bbe6-1562-4705-9187-74c6048511e4",
   "metadata": {},
   "outputs": [
    {
     "data": {
      "text/html": [
       "<div><i>Table length=1092038</i>\n",
       "<table id=\"table23208152808800\" class=\"table-striped table-bordered table-condensed\">\n",
       "<thead><tr><th>TARGETID</th><th>SURVEY</th><th>PROGRAM</th><th>HEALPIX</th><th>CONTINUUM_COEFF [16]</th><th>CONTINUUM_RCHI2</th><th>CONTINUUM_AGE</th><th>CONTINUUM_AV</th><th>CONTINUUM_AV_IVAR</th><th>DN4000_MODEL</th><th>FLUX_SYNTH_MODEL_G</th><th>FLUX_SYNTH_MODEL_R</th><th>FLUX_SYNTH_MODEL_Z</th><th>FLUX_SYNTH_MODEL_W1</th><th>FLUX_SYNTH_MODEL_W2</th><th>FLUX_SYNTH_MODEL_W3</th><th>FLUX_SYNTH_MODEL_W4</th><th>KCORR_U</th><th>ABSMAG_U</th><th>ABSMAG_IVAR_U</th><th>KCORR_B</th><th>ABSMAG_B</th><th>ABSMAG_IVAR_B</th><th>KCORR_V</th><th>ABSMAG_V</th><th>ABSMAG_IVAR_V</th><th>KCORR_SDSS_U</th><th>ABSMAG_SDSS_U</th><th>ABSMAG_IVAR_SDSS_U</th><th>KCORR_SDSS_G</th><th>ABSMAG_SDSS_G</th><th>ABSMAG_IVAR_SDSS_G</th><th>KCORR_SDSS_R</th><th>ABSMAG_SDSS_R</th><th>ABSMAG_IVAR_SDSS_R</th><th>KCORR_SDSS_I</th><th>ABSMAG_SDSS_I</th><th>ABSMAG_IVAR_SDSS_I</th><th>KCORR_SDSS_Z</th><th>ABSMAG_SDSS_Z</th><th>ABSMAG_IVAR_SDSS_Z</th><th>KCORR_W1</th><th>ABSMAG_W1</th><th>ABSMAG_IVAR_W1</th><th>LOGMSTAR</th><th>LOGLNU_1500</th><th>LOGLNU_2800</th><th>LOGL_5100</th><th>FOII_3727_CONT</th><th>FHBETA_CONT</th><th>FOIII_5007_CONT</th><th>FHALPHA_CONT</th></tr></thead>\n",
       "<thead><tr><th>int64</th><th>str4</th><th>str6</th><th>int32</th><th>float64</th><th>float32</th><th>float32</th><th>float32</th><th>float32</th><th>float32</th><th>float32</th><th>float32</th><th>float32</th><th>float32</th><th>float32</th><th>float32</th><th>float32</th><th>float32</th><th>float32</th><th>float32</th><th>float32</th><th>float32</th><th>float32</th><th>float32</th><th>float32</th><th>float32</th><th>float32</th><th>float32</th><th>float32</th><th>float32</th><th>float32</th><th>float32</th><th>float32</th><th>float32</th><th>float32</th><th>float32</th><th>float32</th><th>float32</th><th>float32</th><th>float32</th><th>float32</th><th>float32</th><th>float32</th><th>float32</th><th>float32</th><th>float32</th><th>float32</th><th>float32</th><th>float32</th><th>float32</th><th>float32</th><th>float32</th></tr></thead>\n",
       "<tr><td>2368701667999750</td><td>main</td><td>bright</td><td>10181</td><td>0.0 .. 0.0</td><td>0.0</td><td>0.0</td><td>0.0</td><td>0.0</td><td>0.0</td><td>0.0</td><td>0.0</td><td>0.0</td><td>0.0</td><td>0.0</td><td>0.0</td><td>0.0</td><td>0.0</td><td>0.0</td><td>0.0</td><td>0.0</td><td>0.0</td><td>0.0</td><td>0.0</td><td>0.0</td><td>0.0</td><td>0.0</td><td>0.0</td><td>0.0</td><td>0.0</td><td>0.0</td><td>0.0</td><td>0.0</td><td>0.56754637</td><td>0.0</td><td>0.0</td><td>0.0</td><td>0.0</td><td>0.0</td><td>0.0</td><td>0.0</td><td>0.0</td><td>0.0</td><td>0.0</td><td>0.0</td><td>0.0</td><td>0.0</td><td>0.0</td><td>0.0</td><td>0.0</td><td>0.0</td><td>0.0</td></tr>\n",
       "<tr><td>2377104985423872</td><td>main</td><td>bright</td><td>9479</td><td>0.0 .. 0.0</td><td>0.0</td><td>0.0</td><td>0.0</td><td>0.0</td><td>0.0</td><td>0.0</td><td>0.0</td><td>0.0</td><td>0.0</td><td>0.0</td><td>0.0</td><td>0.0</td><td>0.0</td><td>0.0</td><td>0.0</td><td>0.0</td><td>0.0</td><td>0.0</td><td>0.0</td><td>0.0</td><td>0.0</td><td>0.0</td><td>0.0</td><td>0.0</td><td>0.0</td><td>0.0</td><td>0.0</td><td>0.0</td><td>0.56754637</td><td>0.0</td><td>0.0</td><td>0.0</td><td>0.0</td><td>0.0</td><td>0.0</td><td>0.0</td><td>0.0</td><td>0.0</td><td>0.0</td><td>0.0</td><td>0.0</td><td>0.0</td><td>0.0</td><td>0.0</td><td>0.0</td><td>0.0</td><td>0.0</td></tr>\n",
       "<tr><td>2377280282165248</td><td>main</td><td>bright</td><td>9628</td><td>0.0 .. 0.0</td><td>0.0</td><td>0.0</td><td>0.0</td><td>0.0</td><td>0.0</td><td>0.0</td><td>0.0</td><td>0.0</td><td>0.0</td><td>0.0</td><td>0.0</td><td>0.0</td><td>0.0</td><td>0.0</td><td>0.0</td><td>0.0</td><td>0.0</td><td>0.0</td><td>0.0</td><td>0.0</td><td>0.0</td><td>0.0</td><td>0.0</td><td>0.0</td><td>0.0</td><td>0.0</td><td>0.0</td><td>0.0</td><td>0.56754637</td><td>0.0</td><td>0.0</td><td>0.0</td><td>0.0</td><td>0.0</td><td>0.0</td><td>0.0</td><td>0.0</td><td>0.0</td><td>0.0</td><td>0.0</td><td>0.0</td><td>0.0</td><td>0.0</td><td>0.0</td><td>0.0</td><td>0.0</td><td>0.0</td></tr>\n",
       "<tr><td>2377400943902720</td><td>main</td><td>bright</td><td>15085</td><td>0.0 .. 0.0</td><td>0.0</td><td>0.0</td><td>0.0</td><td>0.0</td><td>0.0</td><td>0.0</td><td>0.0</td><td>0.0</td><td>0.0</td><td>0.0</td><td>0.0</td><td>0.0</td><td>0.0</td><td>0.0</td><td>0.0</td><td>0.0</td><td>0.0</td><td>0.0</td><td>0.0</td><td>0.0</td><td>0.0</td><td>0.0</td><td>0.0</td><td>0.0</td><td>0.0</td><td>0.0</td><td>0.0</td><td>0.0</td><td>0.56754637</td><td>0.0</td><td>0.0</td><td>0.0</td><td>0.0</td><td>0.0</td><td>0.0</td><td>0.0</td><td>0.0</td><td>0.0</td><td>0.0</td><td>0.0</td><td>0.0</td><td>0.0</td><td>0.0</td><td>0.0</td><td>0.0</td><td>0.0</td><td>0.0</td></tr>\n",
       "<tr><td>2389323404017665</td><td>main</td><td>bright</td><td>25774</td><td>0.0 .. 0.0</td><td>0.0</td><td>0.0</td><td>0.0</td><td>0.0</td><td>0.0</td><td>0.0</td><td>0.0</td><td>0.0</td><td>0.0</td><td>0.0</td><td>0.0</td><td>0.0</td><td>0.0</td><td>0.0</td><td>0.0</td><td>0.0</td><td>0.0</td><td>0.0</td><td>0.0</td><td>0.0</td><td>0.0</td><td>0.0</td><td>0.0</td><td>0.0</td><td>0.0</td><td>0.0</td><td>0.0</td><td>0.0</td><td>0.56754637</td><td>0.0</td><td>0.0</td><td>0.0</td><td>0.0</td><td>0.0</td><td>0.0</td><td>0.0</td><td>0.0</td><td>0.0</td><td>0.0</td><td>0.0</td><td>0.0</td><td>0.0</td><td>0.0</td><td>0.0</td><td>0.0</td><td>0.0</td><td>0.0</td></tr>\n",
       "<tr><td>2389323420794881</td><td>main</td><td>bright</td><td>25773</td><td>0.0 .. 0.0</td><td>0.0</td><td>0.0</td><td>0.0</td><td>0.0</td><td>0.0</td><td>0.0</td><td>0.0</td><td>0.0</td><td>0.0</td><td>0.0</td><td>0.0</td><td>0.0</td><td>0.0</td><td>0.0</td><td>0.0</td><td>0.0</td><td>0.0</td><td>0.0</td><td>0.0</td><td>0.0</td><td>0.0</td><td>0.0</td><td>0.0</td><td>0.0</td><td>0.0</td><td>0.0</td><td>0.0</td><td>0.0</td><td>0.56754637</td><td>0.0</td><td>0.0</td><td>0.0</td><td>0.0</td><td>0.0</td><td>0.0</td><td>0.0</td><td>0.0</td><td>0.0</td><td>0.0</td><td>0.0</td><td>0.0</td><td>0.0</td><td>0.0</td><td>0.0</td><td>0.0</td><td>0.0</td><td>0.0</td></tr>\n",
       "<tr><td>2389335349395459</td><td>main</td><td>bright</td><td>26113</td><td>0.0 .. 0.0</td><td>0.0</td><td>0.0</td><td>0.0</td><td>0.0</td><td>0.0</td><td>0.0</td><td>0.0</td><td>0.0</td><td>0.0</td><td>0.0</td><td>0.0</td><td>0.0</td><td>0.0</td><td>0.0</td><td>0.0</td><td>0.0</td><td>0.0</td><td>0.0</td><td>0.0</td><td>0.0</td><td>0.0</td><td>0.0</td><td>0.0</td><td>0.0</td><td>0.0</td><td>0.0</td><td>0.0</td><td>0.0</td><td>0.56754637</td><td>0.0</td><td>0.0</td><td>0.0</td><td>0.0</td><td>0.0</td><td>0.0</td><td>0.0</td><td>0.0</td><td>0.0</td><td>0.0</td><td>0.0</td><td>0.0</td><td>0.0</td><td>0.0</td><td>0.0</td><td>0.0</td><td>0.0</td><td>0.0</td></tr>\n",
       "<tr><td>2389335382949893</td><td>main</td><td>bright</td><td>25775</td><td>0.0 .. 0.0</td><td>0.0</td><td>0.0</td><td>0.0</td><td>0.0</td><td>0.0</td><td>0.0</td><td>0.0</td><td>0.0</td><td>0.0</td><td>0.0</td><td>0.0</td><td>0.0</td><td>0.0</td><td>0.0</td><td>0.0</td><td>0.0</td><td>0.0</td><td>0.0</td><td>0.0</td><td>0.0</td><td>0.0</td><td>0.0</td><td>0.0</td><td>0.0</td><td>0.0</td><td>0.0</td><td>0.0</td><td>0.0</td><td>0.56754637</td><td>0.0</td><td>0.0</td><td>0.0</td><td>0.0</td><td>0.0</td><td>0.0</td><td>0.0</td><td>0.0</td><td>0.0</td><td>0.0</td><td>0.0</td><td>0.0</td><td>0.0</td><td>0.0</td><td>0.0</td><td>0.0</td><td>0.0</td><td>0.0</td></tr>\n",
       "<tr><td>2389355536580611</td><td>main</td><td>bright</td><td>18954</td><td>0.0 .. 0.0</td><td>0.0</td><td>0.0</td><td>0.0</td><td>0.0</td><td>0.0</td><td>0.0</td><td>0.0</td><td>0.0</td><td>0.0</td><td>0.0</td><td>0.0</td><td>0.0</td><td>0.0</td><td>0.0</td><td>0.0</td><td>0.0</td><td>0.0</td><td>0.0</td><td>0.0</td><td>0.0</td><td>0.0</td><td>0.0</td><td>0.0</td><td>0.0</td><td>0.0</td><td>0.0</td><td>0.0</td><td>0.0</td><td>0.56754637</td><td>0.0</td><td>0.0</td><td>0.0</td><td>0.0</td><td>0.0</td><td>0.0</td><td>0.0</td><td>0.0</td><td>0.0</td><td>0.0</td><td>0.0</td><td>0.0</td><td>0.0</td><td>0.0</td><td>0.0</td><td>0.0</td><td>0.0</td><td>0.0</td></tr>\n",
       "<tr><td>2389359584083973</td><td>main</td><td>bright</td><td>25721</td><td>0.0 .. 0.0</td><td>0.0</td><td>0.0</td><td>0.0</td><td>0.0</td><td>0.0</td><td>0.0</td><td>0.0</td><td>0.0</td><td>0.0</td><td>0.0</td><td>0.0</td><td>0.0</td><td>0.0</td><td>0.0</td><td>0.0</td><td>0.0</td><td>0.0</td><td>0.0</td><td>0.0</td><td>0.0</td><td>0.0</td><td>0.0</td><td>0.0</td><td>0.0</td><td>0.0</td><td>0.0</td><td>0.0</td><td>0.0</td><td>0.56754637</td><td>0.0</td><td>0.0</td><td>0.0</td><td>0.0</td><td>0.0</td><td>0.0</td><td>0.0</td><td>0.0</td><td>0.0</td><td>0.0</td><td>0.0</td><td>0.0</td><td>0.0</td><td>0.0</td><td>0.0</td><td>0.0</td><td>0.0</td><td>0.0</td></tr>\n",
       "<tr><td>...</td><td>...</td><td>...</td><td>...</td><td>...</td><td>...</td><td>...</td><td>...</td><td>...</td><td>...</td><td>...</td><td>...</td><td>...</td><td>...</td><td>...</td><td>...</td><td>...</td><td>...</td><td>...</td><td>...</td><td>...</td><td>...</td><td>...</td><td>...</td><td>...</td><td>...</td><td>...</td><td>...</td><td>...</td><td>...</td><td>...</td><td>...</td><td>...</td><td>...</td><td>...</td><td>...</td><td>...</td><td>...</td><td>...</td><td>...</td><td>...</td><td>...</td><td>...</td><td>...</td><td>...</td><td>...</td><td>...</td><td>...</td><td>...</td><td>...</td><td>...</td><td>...</td></tr>\n",
       "<tr><td>39637330885087314</td><td>main</td><td>bright</td><td>13430</td><td>0.0 .. 0.0</td><td>1.5073643</td><td>9.993739</td><td>0.07109795</td><td>251.44702</td><td>1.6946968</td><td>10.618452</td><td>25.553719</td><td>45.76646</td><td>41.228977</td><td>26.497232</td><td>5.9069004</td><td>1.8518902</td><td>-1.0503047</td><td>-17.736334</td><td>21798.283</td><td>-0.048019223</td><td>-18.738619</td><td>21798.283</td><td>-0.2381437</td><td>-19.494131</td><td>77340.76</td><td>-1.2644377</td><td>-17.5222</td><td>21798.283</td><td>-0.1586719</td><td>-18.627966</td><td>21798.283</td><td>-0.16780637</td><td>-18.996922</td><td>77340.76</td><td>0.22545868</td><td>-19.957733</td><td>77340.76</td><td>-0.13107662</td><td>-20.254353</td><td>89574.04</td><td>-0.24345414</td><td>-19.975346</td><td>3785.0042</td><td>10.2939415</td><td>-0.42172465</td><td>-0.4868278</td><td>-0.48555848</td><td>2.8149078</td><td>6.3432465</td><td>5.831965</td><td>6.832992</td></tr>\n",
       "<tr><td>39637330885087431</td><td>main</td><td>bright</td><td>13430</td><td>0.002497752087220329 .. 0.0</td><td>4.439968e-25</td><td>2.4546776</td><td>0.0</td><td>0.0</td><td>1.5200827</td><td>2.9549255</td><td>9.434238</td><td>19.051386</td><td>32.92604</td><td>24.473255</td><td>13.33557</td><td>11.6204605</td><td>-0.19172142</td><td>-20.304453</td><td>2248.6248</td><td>-0.50168294</td><td>-21.254892</td><td>9235.528</td><td>-0.664227</td><td>-21.855398</td><td>10162.155</td><td>-0.49478394</td><td>-20.00139</td><td>2248.6248</td><td>-0.6024914</td><td>-21.154083</td><td>9235.528</td><td>-0.60959256</td><td>-21.342485</td><td>10162.155</td><td>-0.31421474</td><td>-22.20541</td><td>10162.155</td><td>-0.109842524</td><td>-22.409782</td><td>10162.155</td><td>-0.71284044</td><td>-22.400816</td><td>2468.3645</td><td>10.718739</td><td>0.39312288</td><td>0.3840837</td><td>0.4893382</td><td>1.4406486</td><td>2.6592507</td><td>2.5017533</td><td>2.454964</td></tr>\n",
       "<tr><td>39637330885087784</td><td>main</td><td>bright</td><td>13430</td><td>0.0 .. 0.0</td><td>1.0754776</td><td>6.1304255</td><td>0.0</td><td>0.0</td><td>1.6621923</td><td>8.718621</td><td>21.352404</td><td>36.581474</td><td>32.964825</td><td>24.460016</td><td>13.543984</td><td>7.530666</td><td>-1.0887083</td><td>-18.191795</td><td>20990.668</td><td>0.10696413</td><td>-19.387468</td><td>20990.668</td><td>-0.1822488</td><td>-20.071333</td><td>41402.56</td><td>-1.576467</td><td>-17.704037</td><td>20990.668</td><td>-0.010513017</td><td>-19.26999</td><td>20990.668</td><td>-0.12251501</td><td>-19.56352</td><td>41402.56</td><td>-0.36933532</td><td>-20.478916</td><td>39378.66</td><td>-0.13170256</td><td>-20.716549</td><td>39378.66</td><td>-0.2905467</td><td>-20.389029</td><td>2046.8821</td><td>9.99346</td><td>-2.8290894</td><td>-0.9607898</td><td>-0.23209667</td><td>2.3637774</td><td>5.485486</td><td>5.2293024</td><td>5.445757</td></tr>\n",
       "<tr><td>39637330885087875</td><td>main</td><td>bright</td><td>13430</td><td>0.0 .. 0.0</td><td>28.526587</td><td>5.007891</td><td>0.0</td><td>0.0</td><td>1.669908</td><td>6.381564</td><td>20.073425</td><td>41.165794</td><td>57.709904</td><td>43.428226</td><td>18.181051</td><td>16.147594</td><td>-0.4417672</td><td>-20.192215</td><td>4622.622</td><td>-0.6862363</td><td>-21.084866</td><td>11462.152</td><td>0.027450344</td><td>-21.798552</td><td>11462.152</td><td>-0.69891536</td><td>-19.935066</td><td>4622.622</td><td>-0.79456335</td><td>-20.976538</td><td>11462.152</td><td>0.091862835</td><td>-21.295418</td><td>11462.152</td><td>-0.33461344</td><td>-22.307451</td><td>13709.119</td><td>-0.08965312</td><td>-22.552412</td><td>13709.119</td><td>-0.5770876</td><td>-22.594675</td><td>6271.6006</td><td>10.980223</td><td>0.47014818</td><td>0.40536422</td><td>0.47665176</td><td>2.590958</td><td>5.5272794</td><td>5.1210423</td><td>5.6057534</td></tr>\n",
       "<tr><td>39637330885088227</td><td>main</td><td>bright</td><td>13430</td><td>0.0 .. 0.0</td><td>0.24794637</td><td>1.4065503</td><td>0.08446393</td><td>145.07755</td><td>1.4292018</td><td>6.946187</td><td>18.821608</td><td>36.112064</td><td>44.321648</td><td>33.84617</td><td>18.835676</td><td>10.360627</td><td>-0.3966122</td><td>-20.419346</td><td>6670.1445</td><td>-0.5912882</td><td>-21.301464</td><td>22668.965</td><td>0.0026957465</td><td>-21.895447</td><td>22668.965</td><td>-0.64476365</td><td>-20.171194</td><td>6670.1445</td><td>-0.68996704</td><td>-21.202785</td><td>22668.965</td><td>0.05793158</td><td>-21.383137</td><td>22668.965</td><td>-0.32603955</td><td>-22.285803</td><td>18871.875</td><td>-0.09101567</td><td>-22.520826</td><td>18871.875</td><td>-0.57383895</td><td>-22.24</td><td>3841.9387</td><td>10.453422</td><td>0.54746085</td><td>0.5372754</td><td>0.5078764</td><td>2.9211643</td><td>5.0865374</td><td>4.8792696</td><td>4.870012</td></tr>\n",
       "<tr><td>39637330885088287</td><td>main</td><td>bright</td><td>13430</td><td>0.0 .. 0.0</td><td>0.3391698</td><td>0.18399158</td><td>1.0307213</td><td>161.45616</td><td>1.1953523</td><td>6.1182547</td><td>11.948145</td><td>17.496477</td><td>14.32441</td><td>10.773331</td><td>9.821591</td><td>13.708465</td><td>-0.7556169</td><td>-19.005423</td><td>6397.8525</td><td>0.21190071</td><td>-19.97294</td><td>6397.8525</td><td>-0.1472366</td><td>-20.350405</td><td>8228.183</td><td>-1.1776998</td><td>-18.58334</td><td>6397.8525</td><td>0.11174952</td><td>-19.87279</td><td>6397.8525</td><td>-0.111942105</td><td>-19.818151</td><td>8228.183</td><td>-0.3173583</td><td>-20.59702</td><td>4258.74</td><td>-0.15989187</td><td>-20.754486</td><td>4258.74</td><td>-0.42104673</td><td>-20.229399</td><td>485.0512</td><td>9.706278</td><td>-0.5726147</td><td>-0.11385229</td><td>-0.08059341</td><td>1.5566452</td><td>3.1296198</td><td>3.2301903</td><td>2.5390012</td></tr>\n",
       "<tr><td>39637330897666157</td><td>main</td><td>bright</td><td>13428</td><td>0.0 .. 0.0</td><td>6.6578794e-26</td><td>1.7500386</td><td>0.0</td><td>0.0</td><td>1.3808836</td><td>4.9656467</td><td>14.502408</td><td>27.828331</td><td>42.57217</td><td>31.02861</td><td>15.881599</td><td>9.848969</td><td>-0.14004865</td><td>-21.187262</td><td>4113.14</td><td>-0.4180881</td><td>-22.072884</td><td>8261.594</td><td>-0.62789285</td><td>-22.570696</td><td>8178.0737</td><td>-0.418143</td><td>-20.909168</td><td>4113.14</td><td>-0.5125831</td><td>-21.97839</td><td>8261.594</td><td>-0.5802527</td><td>-22.05079</td><td>8178.0737</td><td>-0.31058845</td><td>-22.888</td><td>8178.0737</td><td>-0.108321846</td><td>-23.090267</td><td>8178.0737</td><td>-0.8131414</td><td>-22.847044</td><td>3494.4797</td><td>10.749159</td><td>0.75400114</td><td>0.8227199</td><td>0.7889388</td><td>2.3252804</td><td>3.94741</td><td>3.8058884</td><td>3.4705853</td></tr>\n",
       "<tr><td>39637330897666869</td><td>main</td><td>bright</td><td>13428</td><td>0.0 .. 0.0</td><td>0.86085016</td><td>4.6113577</td><td>0.0</td><td>0.0</td><td>1.7199715</td><td>2.3213246</td><td>9.182987</td><td>18.68039</td><td>27.205832</td><td>20.648525</td><td>9.555072</td><td>7.2567897</td><td>-0.33410677</td><td>-19.419342</td><td>1944.3584</td><td>-0.61335856</td><td>-20.673689</td><td>11217.41</td><td>0.06946441</td><td>-21.356512</td><td>11217.41</td><td>-0.8272515</td><td>-18.926197</td><td>1944.3584</td><td>-0.73094493</td><td>-20.556103</td><td>11217.41</td><td>0.12918578</td><td>-20.848688</td><td>11217.41</td><td>-0.31649598</td><td>-21.721167</td><td>14546.72</td><td>-0.08549098</td><td>-21.952171</td><td>14546.72</td><td>-0.62025124</td><td>-21.818878</td><td>1958.8827</td><td>10.682906</td><td>-2.5854023</td><td>-0.45146772</td><td>0.27431148</td><td>1.0705026</td><td>2.5643892</td><td>2.4288034</td><td>2.5110154</td></tr>\n",
       "<tr><td>39637341018526528</td><td>main</td><td>bright</td><td>13434</td><td>0.0 .. 0.0</td><td>18.734093</td><td>9.667847</td><td>0.0</td><td>0.0</td><td>1.2325022</td><td>14.042574</td><td>19.43807</td><td>25.004671</td><td>15.153401</td><td>8.530962</td><td>1.959741</td><td>0.5899377</td><td>-0.8465294</td><td>-15.388904</td><td>34267.734</td><td>-0.11585075</td><td>-16.119583</td><td>34267.734</td><td>-0.17198852</td><td>-16.473919</td><td>35156.098</td><td>-1.0632628</td><td>-15.172171</td><td>34267.734</td><td>-0.19436365</td><td>-16.041069</td><td>34267.734</td><td>-0.13837664</td><td>-15.939983</td><td>35156.098</td><td>0.03821364</td><td>-16.684122</td><td>35156.098</td><td>-0.091526665</td><td>-16.7968</td><td>9950.843</td><td>-0.07952363</td><td>-15.851399</td><td>186.30865</td><td>8.72018</td><td>-1.4711207</td><td>-1.3701904</td><td>-1.6449482</td><td>4.323265</td><td>6.3747606</td><td>6.116269</td><td>4.7899685</td></tr>\n",
       "<tr><td>39637341018526951</td><td>main</td><td>bright</td><td>13434</td><td>0.0 .. 0.0</td><td>2.0465956</td><td>4.3286796</td><td>0.0</td><td>0.0</td><td>1.774721</td><td>3.877838</td><td>14.630057</td><td>29.939636</td><td>39.209446</td><td>29.885881</td><td>14.767353</td><td>10.798441</td><td>-0.49534494</td><td>-19.542244</td><td>3925.4758</td><td>-0.69942623</td><td>-20.824993</td><td>33067.08</td><td>0.02976259</td><td>-21.55418</td><td>33067.08</td><td>-0.99137765</td><td>-19.046211</td><td>3925.4758</td><td>-0.82034475</td><td>-20.704073</td><td>33067.08</td><td>0.09294878</td><td>-21.04982</td><td>33067.08</td><td>-0.33396122</td><td>-21.94796</td><td>24308.818</td><td>-0.09122357</td><td>-22.190697</td><td>24308.818</td><td>-0.56081426</td><td>-21.983204</td><td>3095.729</td><td>10.701132</td><td>-2.5919979</td><td>-0.49148118</td><td>0.3461414</td><td>1.6140279</td><td>4.0029345</td><td>3.7655828</td><td>4.066251</td></tr>\n",
       "</table></div>"
      ],
      "text/plain": [
       "<Table length=1092038>\n",
       "     TARGETID     SURVEY PROGRAM ... FHBETA_CONT FOIII_5007_CONT FHALPHA_CONT\n",
       "      int64        str4    str6  ...   float32       float32       float32   \n",
       "----------------- ------ ------- ... ----------- --------------- ------------\n",
       " 2368701667999750   main  bright ...         0.0             0.0          0.0\n",
       " 2377104985423872   main  bright ...         0.0             0.0          0.0\n",
       " 2377280282165248   main  bright ...         0.0             0.0          0.0\n",
       " 2377400943902720   main  bright ...         0.0             0.0          0.0\n",
       " 2389323404017665   main  bright ...         0.0             0.0          0.0\n",
       " 2389323420794881   main  bright ...         0.0             0.0          0.0\n",
       " 2389335349395459   main  bright ...         0.0             0.0          0.0\n",
       " 2389335382949893   main  bright ...         0.0             0.0          0.0\n",
       " 2389355536580611   main  bright ...         0.0             0.0          0.0\n",
       " 2389359584083973   main  bright ...         0.0             0.0          0.0\n",
       "              ...    ...     ... ...         ...             ...          ...\n",
       "39637330885087314   main  bright ...   6.3432465        5.831965     6.832992\n",
       "39637330885087431   main  bright ...   2.6592507       2.5017533     2.454964\n",
       "39637330885087784   main  bright ...    5.485486       5.2293024     5.445757\n",
       "39637330885087875   main  bright ...   5.5272794       5.1210423    5.6057534\n",
       "39637330885088227   main  bright ...   5.0865374       4.8792696     4.870012\n",
       "39637330885088287   main  bright ...   3.1296198       3.2301903    2.5390012\n",
       "39637330897666157   main  bright ...     3.94741       3.8058884    3.4705853\n",
       "39637330897666869   main  bright ...   2.5643892       2.4288034    2.5110154\n",
       "39637341018526528   main  bright ...   6.3747606        6.116269    4.7899685\n",
       "39637341018526951   main  bright ...   4.0029345       3.7655828     4.066251"
      ]
     },
     "execution_count": 4,
     "metadata": {},
     "output_type": "execute_result"
    }
   ],
   "source": [
    "data1"
   ]
  },
  {
   "cell_type": "code",
   "execution_count": 5,
   "id": "33e88815-7a5a-4a39-801e-afce7f9b97d0",
   "metadata": {},
   "outputs": [
    {
     "data": {
      "text/html": [
       "<div><i>Table length=1092038</i>\n",
       "<table id=\"table23208150904544\" class=\"table-striped table-bordered table-condensed\">\n",
       "<thead><tr><th>TARGETID</th><th>SURVEY</th><th>PROGRAM</th><th>HEALPIX</th><th>TILEID_LIST</th><th>RA</th><th>DEC</th><th>COADD_FIBERSTATUS</th><th>DESI_TARGET</th><th>BGS_TARGET</th><th>MWS_TARGET</th><th>SCND_TARGET</th><th>Z</th><th>ZWARN</th><th>DELTACHI2</th><th>SPECTYPE</th><th>Z_RR</th><th>PHOTSYS</th><th>LS_ID</th><th>FIBERFLUX_G</th><th>FIBERFLUX_R</th><th>FIBERFLUX_Z</th><th>FIBERTOTFLUX_G</th><th>FIBERTOTFLUX_R</th><th>FIBERTOTFLUX_Z</th><th>FLUX_G</th><th>FLUX_R</th><th>FLUX_Z</th><th>FLUX_W1</th><th>FLUX_W2</th><th>FLUX_W3</th><th>FLUX_W4</th><th>FLUX_IVAR_G</th><th>FLUX_IVAR_R</th><th>FLUX_IVAR_Z</th><th>FLUX_IVAR_W1</th><th>FLUX_IVAR_W2</th><th>FLUX_IVAR_W3</th><th>FLUX_IVAR_W4</th><th>EBV</th><th>MW_TRANSMISSION_G</th><th>MW_TRANSMISSION_R</th><th>MW_TRANSMISSION_Z</th><th>MW_TRANSMISSION_W1</th><th>MW_TRANSMISSION_W2</th><th>MW_TRANSMISSION_W3</th><th>MW_TRANSMISSION_W4</th></tr></thead>\n",
       "<thead><tr><th>int64</th><th>str4</th><th>str6</th><th>int32</th><th>str11</th><th>float64</th><th>float64</th><th>int32</th><th>int64</th><th>int64</th><th>int64</th><th>int64</th><th>float64</th><th>int64</th><th>float64</th><th>str6</th><th>float64</th><th>str1</th><th>int64</th><th>float32</th><th>float32</th><th>float32</th><th>float32</th><th>float32</th><th>float32</th><th>float32</th><th>float32</th><th>float32</th><th>float32</th><th>float32</th><th>float32</th><th>float32</th><th>float32</th><th>float32</th><th>float32</th><th>float32</th><th>float32</th><th>float32</th><th>float32</th><th>float32</th><th>float32</th><th>float32</th><th>float32</th><th>float32</th><th>float32</th><th>float32</th><th>float32</th></tr></thead>\n",
       "<tr><td>2368701667999750</td><td>main</td><td>bright</td><td>10181</td><td>20746</td><td>260.8449464</td><td>57.0242807</td><td>0</td><td>4611686018427387904</td><td>0</td><td>0</td><td>274877907968</td><td>0.9554550704452425</td><td>4</td><td>0.5744934740359895</td><td>GALAXY</td><td>0.9554550704452425</td><td>S</td><td>0</td><td>0.0</td><td>0.0</td><td>0.0</td><td>0.0</td><td>0.0</td><td>0.0</td><td>0.0</td><td>0.0</td><td>0.0</td><td>0.0</td><td>0.0</td><td>0.0</td><td>0.0</td><td>0.0</td><td>0.0</td><td>0.0</td><td>0.0</td><td>0.0</td><td>0.0</td><td>0.0</td><td>0.028213236</td><td>0.9199233</td><td>0.94531953</td><td>0.96902174</td><td>0.9952301</td><td>0.997068</td><td>0.999374</td><td>0.99976355</td></tr>\n",
       "<tr><td>2377104985423872</td><td>main</td><td>bright</td><td>9479</td><td>20912</td><td>260.2651</td><td>33.738</td><td>0</td><td>4611686018427387904</td><td>0</td><td>0</td><td>1099511627776</td><td>1.0215166009722716</td><td>0</td><td>2831.449564576149</td><td>GALAXY</td><td>1.0215166009722716</td><td>S</td><td>0</td><td>0.0</td><td>0.0</td><td>0.0</td><td>0.0</td><td>0.0</td><td>0.0</td><td>0.0</td><td>0.0</td><td>0.0</td><td>0.0</td><td>0.0</td><td>0.0</td><td>0.0</td><td>0.0</td><td>0.0</td><td>0.0</td><td>0.0</td><td>0.0</td><td>0.0</td><td>0.0</td><td>0.031436104</td><td>0.9111941</td><td>0.9392667</td><td>0.96554464</td><td>0.99468666</td><td>0.99673355</td><td>0.99930245</td><td>0.99973655</td></tr>\n",
       "<tr><td>2377280282165248</td><td>main</td><td>bright</td><td>9628</td><td>20922</td><td>256.8889</td><td>43.0251</td><td>0</td><td>4611686018427387904</td><td>0</td><td>0</td><td>1099511627776</td><td>1.0224656323916548</td><td>0</td><td>8640.027814507484</td><td>GALAXY</td><td>1.0224656323916548</td><td>S</td><td>0</td><td>0.0</td><td>0.0</td><td>0.0</td><td>0.0</td><td>0.0</td><td>0.0</td><td>0.0</td><td>0.0</td><td>0.0</td><td>0.0</td><td>0.0</td><td>0.0</td><td>0.0</td><td>0.0</td><td>0.0</td><td>0.0</td><td>0.0</td><td>0.0</td><td>0.0</td><td>0.0</td><td>0.029431121</td><td>0.9166149</td><td>0.9430276</td><td>0.96770626</td><td>0.99502474</td><td>0.99694157</td><td>0.9993469</td><td>0.99975336</td></tr>\n",
       "<tr><td>2377400943902720</td><td>main</td><td>bright</td><td>15085</td><td>20894</td><td>271.8164</td><td>50.2588</td><td>0</td><td>4611686018427387904</td><td>0</td><td>0</td><td>1099511627776</td><td>1.0227471034893134</td><td>0</td><td>2387.1059160232544</td><td>GALAXY</td><td>1.0227471034893134</td><td>S</td><td>0</td><td>0.0</td><td>0.0</td><td>0.0</td><td>0.0</td><td>0.0</td><td>0.0</td><td>0.0</td><td>0.0</td><td>0.0</td><td>0.0</td><td>0.0</td><td>0.0</td><td>0.0</td><td>0.0</td><td>0.0</td><td>0.0</td><td>0.0</td><td>0.0</td><td>0.0</td><td>0.0</td><td>0.054378506</td><td>0.8514017</td><td>0.8972841</td><td>0.9411504</td><td>0.9908268</td><td>0.99435645</td><td>0.9987937</td><td>0.9995443</td></tr>\n",
       "<tr><td>2389323404017665</td><td>main</td><td>bright</td><td>25774</td><td>20573</td><td>193.1697990096016</td><td>-8.46115859313254</td><td>0</td><td>4611686018427387904</td><td>0</td><td>0</td><td>8796093022208</td><td>0.6120753599426026</td><td>4</td><td>1.7808557488024235</td><td>GALAXY</td><td>0.6120753599426026</td><td>S</td><td>0</td><td>0.0</td><td>0.0</td><td>0.0</td><td>0.0</td><td>0.0</td><td>0.0</td><td>0.0</td><td>0.0</td><td>0.0</td><td>0.0</td><td>0.0</td><td>0.0</td><td>0.0</td><td>0.0</td><td>0.0</td><td>0.0</td><td>0.0</td><td>0.0</td><td>0.0</td><td>0.0</td><td>0.03454983</td><td>0.9028391</td><td>0.9334556</td><td>0.9621971</td><td>0.99416196</td><td>0.9964106</td><td>0.99923337</td><td>0.99971044</td></tr>\n",
       "<tr><td>2389323420794881</td><td>main</td><td>bright</td><td>25773</td><td>20573</td><td>194.2052419637823</td><td>-8.495187757323357</td><td>0</td><td>4611686018427387904</td><td>0</td><td>0</td><td>8796093022208</td><td>0.915675363293589</td><td>4</td><td>6.349783268291503</td><td>GALAXY</td><td>0.915675363293589</td><td>S</td><td>0</td><td>0.0</td><td>0.0</td><td>0.0</td><td>0.0</td><td>0.0</td><td>0.0</td><td>0.0</td><td>0.0</td><td>0.0</td><td>0.0</td><td>0.0</td><td>0.0</td><td>0.0</td><td>0.0</td><td>0.0</td><td>0.0</td><td>0.0</td><td>0.0</td><td>0.0</td><td>0.0</td><td>0.033056345</td><td>0.9068369</td><td>0.93623835</td><td>0.9638013</td><td>0.9944136</td><td>0.9965655</td><td>0.9992665</td><td>0.99972296</td></tr>\n",
       "<tr><td>2389335349395459</td><td>main</td><td>bright</td><td>26113</td><td>20572</td><td>192.03255937518395</td><td>-7.98832204021329</td><td>0</td><td>4611686018427387904</td><td>0</td><td>0</td><td>8796093022208</td><td>0.06341801475793736</td><td>0</td><td>512.1244171112776</td><td>GALAXY</td><td>0.06341801475793736</td><td>S</td><td>0</td><td>0.0</td><td>0.0</td><td>0.0</td><td>0.0</td><td>0.0</td><td>0.0</td><td>0.0</td><td>0.0</td><td>0.0</td><td>0.0</td><td>0.0</td><td>0.0</td><td>0.0</td><td>0.0</td><td>0.0</td><td>0.0</td><td>0.0</td><td>0.0</td><td>0.0</td><td>0.0</td><td>0.03088448</td><td>0.9126823</td><td>0.9402999</td><td>0.9661389</td><td>0.99477965</td><td>0.9967908</td><td>0.99931467</td><td>0.9997412</td></tr>\n",
       "<tr><td>2389335382949893</td><td>main</td><td>bright</td><td>25775</td><td>20573</td><td>193.8941334000056</td><td>-8.05557535932544</td><td>0</td><td>4611686018427387904</td><td>0</td><td>0</td><td>8796093022208</td><td>0.012038889775538925</td><td>0</td><td>62.28591778140981</td><td>GALAXY</td><td>0.012038889775538925</td><td>S</td><td>0</td><td>0.0</td><td>0.0</td><td>0.0</td><td>0.0</td><td>0.0</td><td>0.0</td><td>0.0</td><td>0.0</td><td>0.0</td><td>0.0</td><td>0.0</td><td>0.0</td><td>0.0</td><td>0.0</td><td>0.0</td><td>0.0</td><td>0.0</td><td>0.0</td><td>0.0</td><td>0.0</td><td>0.03500264</td><td>0.9016305</td><td>0.93261355</td><td>0.9617113</td><td>0.99408567</td><td>0.99636364</td><td>0.99922335</td><td>0.9997067</td></tr>\n",
       "<tr><td>2389355536580611</td><td>main</td><td>bright</td><td>18954</td><td>20845</td><td>324.3570571681343</td><td>-7.1465156649362624</td><td>0</td><td>4611686018427387904</td><td>0</td><td>0</td><td>8796093022208</td><td>0.05252297941620017</td><td>0</td><td>266.4766075760126</td><td>GALAXY</td><td>0.05252297941620017</td><td>S</td><td>0</td><td>0.0</td><td>0.0</td><td>0.0</td><td>0.0</td><td>0.0</td><td>0.0</td><td>0.0</td><td>0.0</td><td>0.0</td><td>0.0</td><td>0.0</td><td>0.0</td><td>0.0</td><td>0.0</td><td>0.0</td><td>0.0</td><td>0.0</td><td>0.0</td><td>0.0</td><td>0.0</td><td>0.03644668</td><td>0.897787</td><td>0.9299332</td><td>0.9601636</td><td>0.9938424</td><td>0.9962139</td><td>0.99919134</td><td>0.9996946</td></tr>\n",
       "<tr><td>2389359584083973</td><td>main</td><td>bright</td><td>25721</td><td>20109</td><td>207.3023618200281</td><td>-7.1084739544480815</td><td>0</td><td>4611686018427387904</td><td>0</td><td>0</td><td>8796093022208</td><td>0.02538788503554753</td><td>0</td><td>71.42658840442891</td><td>GALAXY</td><td>0.02538788503554753</td><td>S</td><td>0</td><td>0.0</td><td>0.0</td><td>0.0</td><td>0.0</td><td>0.0</td><td>0.0</td><td>0.0</td><td>0.0</td><td>0.0</td><td>0.0</td><td>0.0</td><td>0.0</td><td>0.0</td><td>0.0</td><td>0.0</td><td>0.0</td><td>0.0</td><td>0.0</td><td>0.0</td><td>0.0</td><td>0.033512138</td><td>0.905615</td><td>0.9353882</td><td>0.96331143</td><td>0.9943368</td><td>0.99651825</td><td>0.99925643</td><td>0.99971914</td></tr>\n",
       "<tr><td>...</td><td>...</td><td>...</td><td>...</td><td>...</td><td>...</td><td>...</td><td>...</td><td>...</td><td>...</td><td>...</td><td>...</td><td>...</td><td>...</td><td>...</td><td>...</td><td>...</td><td>...</td><td>...</td><td>...</td><td>...</td><td>...</td><td>...</td><td>...</td><td>...</td><td>...</td><td>...</td><td>...</td><td>...</td><td>...</td><td>...</td><td>...</td><td>...</td><td>...</td><td>...</td><td>...</td><td>...</td><td>...</td><td>...</td><td>...</td><td>...</td><td>...</td><td>...</td><td>...</td><td>...</td><td>...</td><td>...</td></tr>\n",
       "<tr><td>39637330885087314</td><td>main</td><td>bright</td><td>13430</td><td>20301</td><td>343.95926482097224</td><td>32.40287829693235</td><td>0</td><td>1152921504606846976</td><td>131074</td><td>0</td><td>0</td><td>0.11901711893471256</td><td>0</td><td>397.1399623584002</td><td>GALAXY</td><td>0.11901711893471256</td><td>S</td><td>9908832160256082</td><td>4.5039344</td><td>11.686681</td><td>22.990507</td><td>5.8003173</td><td>13.858181</td><td>25.291132</td><td>10.62735</td><td>25.390978</td><td>46.338444</td><td>39.745678</td><td>20.608028</td><td>54.481705</td><td>-852.8917</td><td>227.52072</td><td>141.4159</td><td>49.1754</td><td>2.8244586</td><td>0.79700524</td><td>0.0011088502</td><td>1.3639626e-05</td><td>0.08550724</td><td>0.77649796</td><td>0.8433055</td><td>0.9090344</td><td>0.9856136</td><td>0.9911402</td><td>0.9981038</td><td>0.9992836</td></tr>\n",
       "<tr><td>39637330885087431</td><td>main</td><td>bright</td><td>13430</td><td>20301</td><td>343.96517725350986</td><td>32.6058833703139</td><td>0</td><td>1152921504606846976</td><td>65545</td><td>0</td><td>0</td><td>0.42164491508132684</td><td>0</td><td>73.61239986121655</td><td>GALAXY</td><td>0.42164491508132684</td><td>S</td><td>9908832160256199</td><td>0.7585611</td><td>2.6433556</td><td>5.7800956</td><td>0.99190646</td><td>3.1668758</td><td>6.395151</td><td>2.9549255</td><td>9.434238</td><td>19.051386</td><td>32.92604</td><td>23.070717</td><td>150.47607</td><td>-39.142677</td><td>303.57956</td><td>122.31977</td><td>33.005116</td><td>2.6839774</td><td>0.76036483</td><td>0.0011304112</td><td>1.4188362e-05</td><td>0.09066016</td><td>0.7647506</td><td>0.8346888</td><td>0.90382475</td><td>0.98475325</td><td>0.99060875</td><td>0.99798965</td><td>0.99924046</td></tr>\n",
       "<tr><td>39637330885087784</td><td>main</td><td>bright</td><td>13430</td><td>20301</td><td>343.9841693645073</td><td>32.46413463675095</td><td>0</td><td>1152921504606846976</td><td>131074</td><td>0</td><td>0</td><td>0.16075618269700442</td><td>0</td><td>178.89701248332858</td><td>GALAXY</td><td>0.16075618269700442</td><td>S</td><td>9908832160256552</td><td>2.9680262</td><td>7.8932886</td><td>14.704865</td><td>3.8146243</td><td>9.347234</td><td>16.164066</td><td>8.706842</td><td>21.33497</td><td>36.894325</td><td>31.585634</td><td>20.077356</td><td>20.234028</td><td>-4989.9795</td><td>326.40253</td><td>107.22393</td><td>34.102833</td><td>2.41859</td><td>0.69261605</td><td>0.0009536645</td><td>1.2097649e-05</td><td>0.08482568</td><td>0.77806515</td><td>0.84445184</td><td>0.90972567</td><td>0.9857274</td><td>0.99121046</td><td>0.9981189</td><td>0.9992893</td></tr>\n",
       "<tr><td>39637330885087875</td><td>main</td><td>bright</td><td>13430</td><td>20301</td><td>343.98897310793274</td><td>32.587840707595255</td><td>0</td><td>1152921504606846976</td><td>131074</td><td>0</td><td>0</td><td>0.31641716071315273</td><td>0</td><td>95.03875470161438</td><td>GALAXY</td><td>0.31641716071315273</td><td>S</td><td>9908832160256643</td><td>1.0287231</td><td>3.1990674</td><td>7.724179</td><td>1.3439621</td><td>3.8303192</td><td>8.543198</td><td>6.5752454</td><td>18.73958</td><td>41.79702</td><td>68.08082</td><td>42.316067</td><td>43.89189</td><td>-7940.037</td><td>126.04136</td><td>38.47646</td><td>9.250549</td><td>1.5950617</td><td>0.5294244</td><td>0.0008662729</td><td>1.2141006e-05</td><td>0.09035533</td><td>0.7654406</td><td>0.835196</td><td>0.90413207</td><td>0.9848041</td><td>0.99064016</td><td>0.9979964</td><td>0.99924296</td></tr>\n",
       "<tr><td>39637330885088227</td><td>main</td><td>bright</td><td>13430</td><td>20301</td><td>344.00737229535747</td><td>32.44993186262058</td><td>0</td><td>1152921504606846976</td><td>131074</td><td>0</td><td>0</td><td>0.33201680936173006</td><td>0</td><td>279.06221683323383</td><td>GALAXY</td><td>0.33201680936173006</td><td>S</td><td>9908832160256995</td><td>1.2079827</td><td>3.5360706</td><td>7.3902626</td><td>1.5545639</td><td>4.1910796</td><td>8.127594</td><td>6.9531703</td><td>18.745636</td><td>36.35267</td><td>43.785984</td><td>35.561123</td><td>11.052799</td><td>-2267.431</td><td>162.63655</td><td>76.04662</td><td>16.834146</td><td>2.3622663</td><td>0.66093725</td><td>0.00093200034</td><td>1.2102513e-05</td><td>0.08526453</td><td>0.7770557</td><td>0.8437136</td><td>0.9092805</td><td>0.9856541</td><td>0.9911652</td><td>0.99810916</td><td>0.99928564</td></tr>\n",
       "<tr><td>39637330885088287</td><td>main</td><td>bright</td><td>13430</td><td>20301</td><td>344.0102801258808</td><td>32.5935406697782</td><td>0</td><td>1152921504606846976</td><td>65545</td><td>0</td><td>0</td><td>0.23028925678961246</td><td>0</td><td>295.7890058159828</td><td>GALAXY</td><td>0.23028925678961246</td><td>S</td><td>9908832160257055</td><td>1.2328635</td><td>2.6549098</td><td>4.224253</td><td>1.6176947</td><td>3.1881354</td><td>4.679848</td><td>6.0864143</td><td>11.99504</td><td>17.60746</td><td>13.807775</td><td>9.916647</td><td>34.290535</td><td>816.26196</td><td>203.59158</td><td>67.41386</td><td>16.193336</td><td>2.9990857</td><td>0.79377663</td><td>0.001029859</td><td>1.3213388e-05</td><td>0.09182875</td><td>0.76211137</td><td>0.8327469</td><td>0.90264744</td><td>0.9845582</td><td>0.9904883</td><td>0.9979638</td><td>0.9992306</td></tr>\n",
       "<tr><td>39637330897666157</td><td>main</td><td>bright</td><td>13428</td><td>20301</td><td>344.63377476067643</td><td>32.50286501151111</td><td>0</td><td>1152921504606846976</td><td>65545</td><td>0</td><td>0</td><td>0.46765761200582856</td><td>0</td><td>96.73619829304516</td><td>GALAXY</td><td>0.46765761200582856</td><td>S</td><td>9908832160448621</td><td>0.75482744</td><td>2.4404018</td><td>5.1363626</td><td>1.0307668</td><td>3.0104036</td><td>5.776593</td><td>4.9656467</td><td>14.502408</td><td>27.828331</td><td>42.57217</td><td>29.247328</td><td>48.193085</td><td>-1414.8314</td><td>196.63939</td><td>46.305458</td><td>12.448737</td><td>2.2728963</td><td>0.666386</td><td>0.00091999746</td><td>1.2070712e-05</td><td>0.10531814</td><td>0.732297</td><td>0.810656</td><td>0.88916814</td><td>0.98231006</td><td>0.98909867</td><td>0.997665</td><td>0.9991177</td></tr>\n",
       "<tr><td>39637330897666869</td><td>main</td><td>bright</td><td>13428</td><td>20301</td><td>344.67197778813664</td><td>32.445213306232006</td><td>0</td><td>1152921504606846976</td><td>65537</td><td>0</td><td>0</td><td>0.35274251897642206</td><td>0</td><td>110.15105357952416</td><td>GALAXY</td><td>0.35274251897642206</td><td>S</td><td>9908832160449333</td><td>1.136181</td><td>5.134383</td><td>11.183142</td><td>1.523877</td><td>6.2573385</td><td>12.492094</td><td>2.2691314</td><td>9.317499</td><td>18.601372</td><td>26.923515</td><td>19.507175</td><td>-11.664869</td><td>-395.96442</td><td>445.14923</td><td>152.31494</td><td>49.559147</td><td>3.1856165</td><td>0.8433615</td><td>0.001118372</td><td>1.36197705e-05</td><td>0.09923911</td><td>0.74558574</td><td>0.82053787</td><td>0.89521754</td><td>0.98332256</td><td>0.98972464</td><td>0.99779963</td><td>0.9991686</td></tr>\n",
       "<tr><td>39637341018526528</td><td>main</td><td>bright</td><td>13434</td><td>20301</td><td>341.50519094093755</td><td>32.931316000679466</td><td>0</td><td>5764607523034234880</td><td>131074</td><td>0</td><td>131072</td><td>0.034248581708430356</td><td>0</td><td>299.31758282519877</td><td>GALAXY</td><td>0.034248581708430356</td><td>S</td><td>9908832318591808</td><td>2.175657</td><td>3.5490894</td><td>4.9095263</td><td>3.060108</td><td>4.466081</td><td>5.5833426</td><td>13.770829</td><td>20.097868</td><td>25.125668</td><td>10.402939</td><td>4.071907</td><td>14.262147</td><td>-1188.1224</td><td>213.01678</td><td>102.60047</td><td>18.581179</td><td>2.029409</td><td>0.60200983</td><td>0.0009069042</td><td>1.1981171e-05</td><td>0.1153069</td><td>0.710974</td><td>0.7946765</td><td>0.87931675</td><td>0.9806486</td><td>0.98807096</td><td>0.9974438</td><td>0.99903405</td></tr>\n",
       "<tr><td>39637341018526951</td><td>main</td><td>bright</td><td>13434</td><td>20301</td><td>341.5285931968522</td><td>32.89738130402283</td><td>0</td><td>1152921504606846976</td><td>65537</td><td>0</td><td>0</td><td>0.3168911376012401</td><td>0</td><td>89.0291499113664</td><td>GALAXY</td><td>0.3168911376012401</td><td>S</td><td>9908832318592231</td><td>1.1734663</td><td>5.237702</td><td>11.805927</td><td>1.729224</td><td>6.8011565</td><td>13.66418</td><td>3.7831106</td><td>14.879233</td><td>29.893818</td><td>38.055767</td><td>25.53648</td><td>-41.42271</td><td>-1445.0425</td><td>323.32764</td><td>176.0692</td><td>32.066364</td><td>2.5198262</td><td>0.68200225</td><td>0.0009876862</td><td>1.2710914e-05</td><td>0.13105589</td><td>0.67860866</td><td>0.7701193</td><td>0.86400557</td><td>0.97803473</td><td>0.9864527</td><td>0.99709517</td><td>0.99890214</td></tr>\n",
       "</table></div>"
      ],
      "text/plain": [
       "<Table length=1092038>\n",
       "     TARGETID     SURVEY PROGRAM ... MW_TRANSMISSION_W3 MW_TRANSMISSION_W4\n",
       "      int64        str4    str6  ...      float32            float32      \n",
       "----------------- ------ ------- ... ------------------ ------------------\n",
       " 2368701667999750   main  bright ...           0.999374         0.99976355\n",
       " 2377104985423872   main  bright ...         0.99930245         0.99973655\n",
       " 2377280282165248   main  bright ...          0.9993469         0.99975336\n",
       " 2377400943902720   main  bright ...          0.9987937          0.9995443\n",
       " 2389323404017665   main  bright ...         0.99923337         0.99971044\n",
       " 2389323420794881   main  bright ...          0.9992665         0.99972296\n",
       " 2389335349395459   main  bright ...         0.99931467          0.9997412\n",
       " 2389335382949893   main  bright ...         0.99922335          0.9997067\n",
       " 2389355536580611   main  bright ...         0.99919134          0.9996946\n",
       " 2389359584083973   main  bright ...         0.99925643         0.99971914\n",
       "              ...    ...     ... ...                ...                ...\n",
       "39637330885087314   main  bright ...          0.9981038          0.9992836\n",
       "39637330885087431   main  bright ...         0.99798965         0.99924046\n",
       "39637330885087784   main  bright ...          0.9981189          0.9992893\n",
       "39637330885087875   main  bright ...          0.9979964         0.99924296\n",
       "39637330885088227   main  bright ...         0.99810916         0.99928564\n",
       "39637330885088287   main  bright ...          0.9979638          0.9992306\n",
       "39637330897666157   main  bright ...           0.997665          0.9991177\n",
       "39637330897666869   main  bright ...         0.99779963          0.9991686\n",
       "39637341018526528   main  bright ...          0.9974438         0.99903405\n",
       "39637341018526951   main  bright ...         0.99709517         0.99890214"
      ]
     },
     "execution_count": 5,
     "metadata": {},
     "output_type": "execute_result"
    }
   ],
   "source": [
    "data2"
   ]
  },
  {
   "cell_type": "code",
   "execution_count": 6,
   "id": "278b8797-484c-4595-80e1-3093e87e30ba",
   "metadata": {},
   "outputs": [
    {
     "name": "stdout",
     "output_type": "stream",
     "text": [
      "[    273     276     278 ... 1092031 1092032 1092036] [    272     274     275 ... 1092034 1092035 1092037] [    272     273     274 ... 1092035 1092036 1092037]\n"
     ]
    }
   ],
   "source": [
    "bgs_bright_i = np.where((data2[\"BGS_TARGET\"] & bgs_mask[\"BGS_BRIGHT\"]) != 0)[0]\n",
    "bgs_faint_i = np.where((data2[\"BGS_TARGET\"] & bgs_mask[\"BGS_FAINT\"]) != 0)[0]\n",
    "bgs_i = np.where((data2[\"DESI_TARGET\"] & desi_mask[\"BGS_ANY\"]) != 0)[0]\n",
    "print(bgs_bright_i, bgs_faint_i, bgs_i)"
   ]
  },
  {
   "cell_type": "code",
   "execution_count": 7,
   "id": "5711fec6-ad8e-4a27-abcd-a450e57379e8",
   "metadata": {},
   "outputs": [
    {
     "ename": "SyntaxError",
     "evalue": "unexpected EOF while parsing (1894078482.py, line 13)",
     "output_type": "error",
     "traceback": [
      "\u001b[0;36m  Input \u001b[0;32mIn [7]\u001b[0;36m\u001b[0m\n\u001b[0;31m    print(data2['VMAX_EST']\u001b[0m\n\u001b[0m                           ^\u001b[0m\n\u001b[0;31mSyntaxError\u001b[0m\u001b[0;31m:\u001b[0m unexpected EOF while parsing\n"
     ]
    }
   ],
   "source": [
    "cosmo = FlatLambdaCDM(H0=1, Om0=0.3) \n",
    "print(cosmo.comoving_distance(0.5)) # [Mpc/h]\n",
    "print(cosmo.lookback_time(0.5).to_value(U.s))\n",
    "def zmax(m):\n",
    "    return 10**(-(m+22.8)/5.4)\n",
    "\n",
    "zmax_env = zmax(np.arange(-35,-5,0.5))\n",
    "#print(zmax_env)\n",
    "vol_env = 4/3*np.pi*cosmo.comoving_distance(zmax_env)**3\n",
    "#print(vol_env)\n",
    "zmax_clipped = np.clip(zmax(data1['ABSMAG_SDSS_R']), a_min=None, a_max=0.3)\n",
    "data2['VMAX_EST'] = cosmo.comoving_volume(zmax_clipped)\n",
    "print(data2['VMAX_EST'])"
   ]
  },
  {
   "cell_type": "code",
   "execution_count": null,
   "id": "f1e87867-f769-462b-8595-6feec987738e",
   "metadata": {},
   "outputs": [],
   "source": [
    "redshift_cut = np.intersect1d(np.where(data2['Z'] <= 0.3)[0], bgs_i)\n",
    "redshift_cut_GAMA = np.intersect1d(np.where(data2['Z'] <= 0.26)[0], bgs_i)\n",
    "bright_redshift = np.intersect1d(redshift_cut,bgs_bright_i)\n",
    "faint_redshift = np.intersect1d(redshift_cut,bgs_faint_i)\n",
    "\n",
    "z_good = np.where(np.logical_and(data2['ZWARN']==0, data2['DELTACHI2']>40))[0]\n",
    "z_bad = np.where(np.logical_or(data2['ZWARN']!=0, data2['DELTACHI2']<40))[0]\n",
    "good_bgs = np.intersect1d(z_good, bgs_i)\n",
    "bad_bgs = np.intersect1d(z_bad, bgs_i)\n",
    "\n",
    "fig, ax = plt.subplots(figsize=(7,5), dpi=200)\n",
    "#ax2.scatter(data1['ABSMAG_SDSS_R'][bad_bgs], data2['Z'][bad_bgs], s=0.1, color='tab:red')\n",
    "ax.plot(data1['ABSMAG_SDSS_R'][good_bgs], data2['Z'][good_bgs], lw=0, marker=',')\n",
    "#ax.set_yscale('log')\n",
    "plt.plot(np.arange(-35,-5,0.5), zmax_env, color='tab:olive', label='estimated exponential fit', lw=1)\n",
    "plt.xlabel('SDSS R mag')\n",
    "plt.ylabel('Secure redshift')\n",
    "plt.ylim(0,0.3)\n",
    "plt.xlim(-26,-10)\n",
    "\n",
    "plt.savefig('figures/absmag_r_v_redshift.png')"
   ]
  },
  {
   "cell_type": "code",
   "execution_count": null,
   "id": "1a3e9cee-e0f0-45a0-b6be-8d8a48cebcb2",
   "metadata": {},
   "outputs": [],
   "source": [
    "plt.figure()\n",
    "plt.scatter(data2['Z'][redshift_cut], data2['VMAX_EST'][redshift_cut], s=0.01)\n",
    "plt.scatter(data2['Z'][redshift_cut_GAMA], data2['VMAX_EST'][redshift_cut_GAMA], s=0.01)\n",
    "plt.show()"
   ]
  },
  {
   "cell_type": "code",
   "execution_count": null,
   "id": "5b8c3576-dc48-48dc-95fa-d7a5cec405fe",
   "metadata": {},
   "outputs": [],
   "source": [
    "plt.figure()\n",
    "plt.plot(data1['ABSMAG_SDSS_R'][good_bgs], zmax_clipped[good_bgs], lw=0, marker=',', color='tab:orange')\n",
    "plt.show()"
   ]
  },
  {
   "cell_type": "code",
   "execution_count": null,
   "id": "f331902b-7d90-457b-a7fd-3421a10c7f22",
   "metadata": {},
   "outputs": [],
   "source": [
    "plt.figure()\n",
    "plt.hist(data1['ABSMAG_SDSS_R'], bins=M_range)\n",
    "plt.xlim(-30,-10)\n",
    "plt.show()"
   ]
  },
  {
   "cell_type": "code",
   "execution_count": null,
   "id": "edf658af-40a7-4d25-b7b5-97b50d31cc49",
   "metadata": {},
   "outputs": [],
   "source": [
    "phi_star_est = 0.00000000003\n",
    "M_star_est = -22 #-21.5#-19.7+5*np.log10(5) for b-band\n",
    "alpha_est = -1.25 #-1.07\n",
    "\n",
    "def phi(M, phi_star=8.32*10**(-3), M_star=-20.3, alpha=-0.23): #luminosity function\n",
    "    return np.log(10)*phi_star*10**(0.4*(alpha+1)*(-M+M_star))*np.exp(-10**(0.4*(-M+M_star)))/2.5\n",
    "\n",
    "M_range = np.arange(-35,55,0.25)\n",
    "\n",
    "plt.figure(figsize=(12,5), dpi=200)\n",
    "\n",
    "#ax1.hist(data1['ABSMAG_SDSS_R'][redshift_cut], bins=M_range)\n",
    "ax1 = plt.subplot(121)\n",
    "plt.title('z < 0.3')\n",
    "ax1.set_yscale('log')\n",
    "plt.ylabel('number')\n",
    "plt.xlabel('SDSS R mag')\n",
    "plt.xlim(-30,-7.5)\n",
    "plt.ylim(10**-16,10**-6)\n",
    "ax1.hist(data1['ABSMAG_SDSS_R'][redshift_cut], bins=M_range, weights=1/data2['VMAX_EST'][redshift_cut], histtype='bar')\n",
    "ax1.plot(M_range, phi(M_range, phi_star=phi_star_est, M_star=M_star_est, alpha=alpha_est), label='my estimate', ls='--')\n",
    "ax1.plot(M_range, phi(M_range, phi_star=0.00000000015, M_star=-19.7+5*np.log10(5), alpha=-1.07), label='typical b-band (phi* adjusted)', color='tab:green')\n",
    "plt.legend()\n",
    "\n",
    "ax2 = plt.subplot(122)\n",
    "ax2.set_yscale('log')\n",
    "plt.title('z < 0.26 (as in GAMA)')\n",
    "ax2.hist(data1['ABSMAG_SDSS_R'][redshift_cut_GAMA], bins=M_range, weights=1/data2['VMAX_EST'][redshift_cut_GAMA], histtype='bar')\n",
    "ax2.plot(M_range, phi(M_range, phi_star=phi_star_est, M_star=M_star_est, alpha=alpha_est), label='my estimate', ls='--')\n",
    "#ax2.plot(M_range, phi(M_range, phi_star=0.00000000005, M_star = -20.3, alpha=-0.23), label='McNaught-Roberts+ 2014, red (phi* adjusted)', color='tab:red')\n",
    "#ax2.plot(M_range, phi(M_range, phi_star=0.00000000005, M_star=-19.91, alpha=-1.3), label='McNaught-Roberts+ 2014, blue (phi* adjusted)', color='tab:cyan')\n",
    "ax2.plot(M_range, phi(M_range, phi_star=0.00000000005, M_star=-20.7, alpha=-1.25), label='McNaught-Roberts+ 2014, all (phi* adjusted)', color='tab:olive')\n",
    "plt.xlim(-30,-7.5)\n",
    "plt.ylim(10**-16,10**-6)\n",
    "plt.xlabel('SDSS R mag')\n",
    "plt.legend()\n",
    "plt.savefig('figures/absmag_r_hist_redshift_cut.png')"
   ]
  },
  {
   "cell_type": "code",
   "execution_count": null,
   "id": "229ee54c-ad5c-4363-8cea-3680a418395c",
   "metadata": {},
   "outputs": [],
   "source": [
    "rest_g_r = data1['ABSMAG_SDSS_G'] - data1['ABSMAG_SDSS_R']\n",
    "\n",
    "fig, ax = plt.subplots(figsize=(7,5),dpi=200)\n",
    "ax.hist(rest_g_r[redshift_cut], bins=np.arange(-0.5,1.5,0.025))\n",
    "ax.set_yscale('log')\n",
    "plt.xlabel('Rest frame (g-r)')\n",
    "plt.ylabel('BGS galaxies')\n",
    "plt.savefig('figures/rest_frame_color.png')"
   ]
  },
  {
   "cell_type": "code",
   "execution_count": null,
   "id": "9211987c-9ee6-471c-bcca-666875964486",
   "metadata": {},
   "outputs": [],
   "source": []
  }
 ],
 "metadata": {
  "kernelspec": {
   "display_name": "DESI 22.2",
   "language": "python",
   "name": "desi-22.2"
  },
  "language_info": {
   "codemirror_mode": {
    "name": "ipython",
    "version": 3
   },
   "file_extension": ".py",
   "mimetype": "text/x-python",
   "name": "python",
   "nbconvert_exporter": "python",
   "pygments_lexer": "ipython3",
   "version": "3.9.7"
  }
 },
 "nbformat": 4,
 "nbformat_minor": 5
}
